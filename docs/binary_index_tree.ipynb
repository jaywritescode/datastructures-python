{
 "cells": [
  {
   "cell_type": "markdown",
   "metadata": {},
   "source": [
    "# Binary index tree (a.k.a. Fenwick tree)\n",
    "\n",
    "Given an array of integers `arr[0 ... n-1]`, we want to be able to perform two operations:\n",
    "\n",
    "1. **Query**: Compute the sum of the first $i$ values in `arr`.\n",
    "2. **Update**: For some $0 \\le i < n$, set `arr[i] = k`.\n",
    "\n",
    "We would like to perform both operations in $\\mathcal{O}(\\log{}n)$ time."
   ]
  },
  {
   "cell_type": "markdown",
   "metadata": {},
   "source": [
    "The binary index tree uses an array `bit` as its underlying data structure. `bit[0]` is a dummy value and ignored; therefore `bit` is indexed from 1 to $n$.\n",
    "\n",
    "---\n",
    "\n",
    "Each element in `bit` is the sum of a particular subsequence of `arr`.\n",
    "\n",
    "---\n",
    "\n",
    "+ If $i$ is a power of 2, then `bit[i] == sum(arr[:i])` is the sum of the first $i$ elements of `arr`.\n",
    "\n",
    "+ Otherwise, find `p = parent(i)` by flipping the least-significant non-zero bit of $i$. `bit[i] == sum(arr[p:i])` is the sum of the elements in `arr` from $p$ (inclusive) to $i$ (exclusive)."
   ]
  },
  {
   "cell_type": "markdown",
   "metadata": {},
   "source": [
    "### Finding the least-significant non-zero bit of $n$\n",
    "\n",
    "We define $\\sim n$ to be the [ones' complement](https://en.wikipedia.org/wiki/Ones%27_complement) of positive integer $n$. Then $-n = ~n + 1$ is the two's complement of $n$.\n",
    "\n",
    "We can write in base-2 notation $n = \\texttt{a1b}$ where $\\texttt{b}$ is a (possibly empty) string of zeros. We then have:\n",
    "\n",
    "```\n",
    "-n = ~(a1b) + 1\n",
    "   = (~a)0(~b) + 1\n",
    "```\n",
    "\n",
    "Since `b` is all zeros, then `~b` is all ones:\n",
    "\n",
    "```\n",
    "-n = (~a)0(1...1) + 1\n",
    "   = (~a)1(0...0)\n",
    "```\n",
    "\n",
    "The least significant non-zero bit of $n = \\texttt{a1b}$ is then:\n",
    "\n",
    "```\n",
    "   n =   a     1 (0...0)\n",
    "& -n = (~a)    1 (0...0)\n",
    "--------------------\n",
    "       (0...0) 1 (0...0)\n",
    "```"
   ]
  },
  {
   "cell_type": "code",
   "execution_count": 3,
   "metadata": {},
   "outputs": [],
   "source": [
    "def least_significant_nonzero_bit(n):\n",
    "    \"\"\"\n",
    "    Returns 2 ** k where k is the least significant non-zero bit of positive integer n.\n",
    "    \"\"\"\n",
    "    return n & -n\n",
    "\n",
    "def parent(idx):\n",
    "    \"\"\"\n",
    "    Flips the least significant non-zero bit of idx.\n",
    "    \n",
    "    Returns zero if idx points to a root node.\n",
    "    \"\"\"\n",
    "    return idx - least_significant_nonzero_bit(idx)"
   ]
  },
  {
   "cell_type": "markdown",
   "metadata": {},
   "source": [
    "### Query\n",
    "\n",
    "Recall that querying a binary index tree at $i$ returns the sum of the first $i$ values in the tree.\n",
    "\n",
    "We simply sum the values at $i$ and all of its ancestor nodes.\n",
    "\n",
    "\n",
    "    def query(idx):\n",
    "        sum = 0\n",
    "        while idx > 0:\n",
    "            sum += arr[idx]\n",
    "\n",
    "\n",
    "Find the parent of index $i$ by finding its least significant non-zero bit, $2^k$ and flipping it to zero by subtracting $i - 2^k$.\n",
    "\n",
    "\n",
    "            idx -= (idx & -idx)\n",
    "        return sum"
   ]
  },
  {
   "cell_type": "markdown",
   "metadata": {},
   "source": []
  }
 ],
 "metadata": {
  "kernelspec": {
   "display_name": "Python 3",
   "language": "python",
   "name": "python3"
  },
  "language_info": {
   "codemirror_mode": {
    "name": "ipython",
    "version": 3
   },
   "file_extension": ".py",
   "mimetype": "text/x-python",
   "name": "python",
   "nbconvert_exporter": "python",
   "pygments_lexer": "ipython3",
   "version": "3.8.2"
  }
 },
 "nbformat": 4,
 "nbformat_minor": 4
}
